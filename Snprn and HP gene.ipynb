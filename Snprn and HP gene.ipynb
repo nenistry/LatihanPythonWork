{
 "cells": [
  {
   "cell_type": "code",
   "execution_count": 1,
   "id": "1c431544-0750-484f-a3a0-f639df2e5eb4",
   "metadata": {},
   "outputs": [],
   "source": [
    "from Bio import Entrez"
   ]
  },
  {
   "cell_type": "code",
   "execution_count": 2,
   "id": "fd751352-b658-4a7a-97da-b28a0363a8f5",
   "metadata": {},
   "outputs": [
    {
     "name": "stdout",
     "output_type": "stream",
     "text": [
      "b'<?xml version=\"1.0\" encoding=\"UTF-8\" ?>\\n<!DOCTYPE eInfoResult PUBLIC \"-//NLM//DTD einfo 20190110//EN\" \"https://eutils.ncbi.nlm.nih.gov/eutils/dtd/20190110/einfo.dtd\">\\n<eInfoResult>\\n<DbList>\\n\\n\\t<DbName>pubmed</DbName>\\n\\t<DbName>protein</DbName>\\n\\t<DbName>nuccore</DbName>\\n\\t<DbName>ipg</DbName>\\n\\t<DbName>nucleotide</DbName>\\n\\t<DbName>structure</DbName>\\n\\t<DbName>genome</DbName>\\n\\t<DbName>annotinfo</DbName>\\n\\t<DbName>assembly</DbName>\\n\\t<DbName>bioproject</DbName>\\n\\t<DbName>biosample</DbName>\\n\\t<DbName>blastdbinfo</DbName>\\n\\t<DbName>books</DbName>\\n\\t<DbName>cdd</DbName>\\n\\t<DbName>clinvar</DbName>\\n\\t<DbName>gap</DbName>\\n\\t<DbName>gapplus</DbName>\\n\\t<DbName>grasp</DbName>\\n\\t<DbName>dbvar</DbName>\\n\\t<DbName>gene</DbName>\\n\\t<DbName>gds</DbName>\\n\\t<DbName>geoprofiles</DbName>\\n\\t<DbName>homologene</DbName>\\n\\t<DbName>medgen</DbName>\\n\\t<DbName>mesh</DbName>\\n\\t<DbName>ncbisearch</DbName>\\n\\t<DbName>nlmcatalog</DbName>\\n\\t<DbName>omim</DbName>\\n\\t<DbName>orgtrack</DbName>\\n\\t<DbName>pmc</DbName>\\n\\t<DbName>popset</DbName>\\n\\t<DbName>proteinclusters</DbName>\\n\\t<DbName>pcassay</DbName>\\n\\t<DbName>protfam</DbName>\\n\\t<DbName>biosystems</DbName>\\n\\t<DbName>pccompound</DbName>\\n\\t<DbName>pcsubstance</DbName>\\n\\t<DbName>seqannot</DbName>\\n\\t<DbName>snp</DbName>\\n\\t<DbName>sra</DbName>\\n\\t<DbName>taxonomy</DbName>\\n\\t<DbName>biocollections</DbName>\\n\\t<DbName>gtr</DbName>\\n</DbList>\\n\\n</eInfoResult>\\n'\n"
     ]
    }
   ],
   "source": [
    "from Bio import Entrez\n",
    "Entrez.email = \"localuser@localhost.localdomain\" #Mandatory! Can be replaced with your personal email.\n",
    "\n",
    "#creating handle\n",
    "handle = Entrez.einfo() #invoking Bio.Entrez.einfo()\n",
    "print(handle.read())\n",
    "handle.close() #always close your handle after you finish"
   ]
  },
  {
   "cell_type": "code",
   "execution_count": 3,
   "id": "b8b7a7a4-93f4-414f-a3c2-452aa079d70a",
   "metadata": {},
   "outputs": [
    {
     "name": "stdout",
     "output_type": "stream",
     "text": [
      "{'Count': '685255', 'RetMax': '20', 'RetStart': '0', 'IdList': ['1864276508', '1783383395', '1635704551', '1103215353', '1103215352', '1103215351', '1103215350', '1103143079', '1103140999', '1103136040', '1007438161', '1007438140', '1007438139', '1007438137', '1007438135', '1007438133', '1007438131', '1007438129', '1007438126', '1007438112'], 'TranslationSet': [{'From': 'Macaca mulatta', 'To': '\"Macaca mulatta\"[Organism] OR Macaca mulatta[All Fields]'}], 'TranslationStack': [{'Term': '\"Macaca mulatta\"[Organism]', 'Field': 'Organism', 'Count': '618982', 'Explode': 'Y'}, {'Term': 'Macaca mulatta[All Fields]', 'Field': 'All Fields', 'Count': '685255', 'Explode': 'N'}, 'OR', 'GROUP'], 'QueryTranslation': '\"Macaca mulatta\"[Organism] OR Macaca mulatta[All Fields]'}\n"
     ]
    }
   ],
   "source": [
    "from Bio import Entrez\n",
    "Entrez.email = \"localuser@localhost.localdomain\" #Mandatory! Can be replaced with your personal email.\n",
    "\n",
    "#creating handle\n",
    "handle = Entrez.esearch(db=\"nuccore\", term=\"Macaca mulatta\")\n",
    "record = Entrez.read(handle)\n",
    "print(record)\n",
    "handle.close() #always close your handle after you finish"
   ]
  },
  {
   "cell_type": "code",
   "execution_count": 4,
   "id": "041bdffb-cb93-4758-ab5b-bd9fa3b27b55",
   "metadata": {},
   "outputs": [
    {
     "name": "stdout",
     "output_type": "stream",
     "text": [
      "{'Count': '33', 'RetMax': '20', 'RetStart': '0', 'IdList': ['1985853800', '1985853298', '1985843566', '386781431', '1622969467', '1622950890', '1622950887', '1622950885', '1622950882', '1622950879', '1622950877', '1622950874', '1622950872', '1622950869', '1622950867', '1622950865', '1597485639', '1597485625', '82614965', '47159454'], 'TranslationSet': [{'From': 'Macaca mulatta', 'To': '\"Macaca mulatta\"[Organism] OR Macaca mulatta[All Fields]'}], 'TranslationStack': [{'Term': '\"Macaca mulatta\"[Organism]', 'Field': 'Organism', 'Count': '618982', 'Explode': 'Y'}, {'Term': 'Macaca mulatta[All Fields]', 'Field': 'All Fields', 'Count': '685255', 'Explode': 'N'}, 'OR', 'GROUP', {'Term': 'Snrpn[All Fields]', 'Field': 'All Fields', 'Count': '1788', 'Explode': 'N'}, 'AND', 'GROUP'], 'QueryTranslation': '(\"Macaca mulatta\"[Organism] OR Macaca mulatta[All Fields]) AND Snrpn[All Fields]'}\n"
     ]
    }
   ],
   "source": [
    "from Bio import Entrez\n",
    "Entrez.email = \"localuser@localhost.localdomain\" #Mandatory! Can be replaced with your personal email.\n",
    "\n",
    "handle = Entrez.esearch(db=\"nuccore\", term=\"Macaca mulatta Snrpn\")\n",
    "record = Entrez.read(handle)\n",
    "print(record)\n",
    "handle.close() #always close your handle after you finish\n"
   ]
  },
  {
   "cell_type": "code",
   "execution_count": 5,
   "id": "4ec8ae62-b0cc-46cc-8d3a-ffe9b6a8cdef",
   "metadata": {},
   "outputs": [
    {
     "name": "stdout",
     "output_type": "stream",
     "text": [
      "LOCUS       AY953510                 782 bp    DNA     linear   PRI 23-JUL-2007\n",
      "DEFINITION  Macaca mulatta Snrpn gene, intron.\n",
      "ACCESSION   AY953510\n",
      "VERSION     AY953510.1\n",
      "KEYWORDS    .\n",
      "SOURCE      Macaca mulatta (Rhesus monkey)\n",
      "  ORGANISM  Macaca mulatta\n",
      "            Eukaryota; Metazoa; Chordata; Craniata; Vertebrata; Euteleostomi;\n",
      "            Mammalia; Eutheria; Euarchontoglires; Primates; Haplorrhini;\n",
      "            Catarrhini; Cercopithecidae; Cercopithecinae; Macaca.\n",
      "REFERENCE   1  (bases 1 to 782)\n",
      "  AUTHORS   Paoloni-Giacobino,A., D'Aiuto,L., Cirio,M.C., Reinhart,B. and\n",
      "            Chaillet,J.R.\n",
      "  TITLE     Conserved features of imprinted differentially methylated domains\n",
      "  JOURNAL   Gene 399 (1), 33-45 (2007)\n",
      "   PUBMED   17544602\n",
      "REFERENCE   2  (bases 1 to 782)\n",
      "  AUTHORS   Paoloni-Giacobino,A. and Chaillet,J.R.\n",
      "  TITLE     Intronic sequence within the DMD of Snrpn gene, Macaca mulatta\n",
      "  JOURNAL   Unpublished\n",
      "REFERENCE   3  (bases 1 to 782)\n",
      "  AUTHORS   Paoloni-Giacobino,A. and Chaillet,J.R.\n",
      "  TITLE     Direct Submission\n",
      "  JOURNAL   Submitted (04-MAR-2005) Molecular Genetics and Biochemistry,\n",
      "            Pittsburgh University, 200 Lothrop Street, Pittsburgh, PA 15213,\n",
      "            USA\n",
      "FEATURES             Location/Qualifiers\n",
      "     source          1..782\n",
      "                     /organism=\"Macaca mulatta\"\n",
      "                     /mol_type=\"genomic DNA\"\n",
      "                     /db_xref=\"taxon:9544\"\n",
      "     gene            <1..>782\n",
      "                     /gene=\"Snrpn\"\n",
      "     intron          <1..>782\n",
      "                     /gene=\"Snrpn\"\n",
      "ORIGIN      \n",
      "        1 ttggggcgcg tcctccatcc gcccccagct gtggtgtcgc cacaggtcct attgcgggtg\n",
      "       61 tctgcggtgg gaagggcggt ggtgacgggg agcgtgtggg gtcaccgcag ccagccaggg\n",
      "      121 acatgggcgg aggtgggtac atcggagtga ctgcagttcc gtgtggcgag ggtacgtggg\n",
      "      181 gggaccggtg catcgggatt tgaggcggag gtaggtatac tggagtgatc gtggcggggc\n",
      "      241 gaaggtacgt ggagtgacgg gtatttaggg ggtgtcgagc gcaggtgggt gtactgaagt\n",
      "      301 ggccactgcg tggtggagca gggtacgtgg ggcgactggg gggtattcgt cgcagtgacc\n",
      "      361 gaggcgagga ggctgtggca gtggaccagg gggatgagtc ggtacgaccg tggtggggtt\n",
      "      421 tgtgttggtg atcgcggcgc gggaagggtc tgtaggaagc ggctgggagg taggaggaag\n",
      "      481 gcggcggcgg tgggcattgg cggctttggt ggcagtaggc atggcggcgg tgggcatggc\n",
      "      541 atggaggcgg tgggcatggc ggccgcgggg cctgttgctg tctggagtga ctaagggacg\n",
      "      601 ctgaatgatc gctgtggcgg ggagggggca tcaggagggg cagtagcaca gtcagcagcc\n",
      "      661 tttaattttc ctgtgacctg cggtggtcat ctggtttgtc tgctgtggtg atgtcaggtg\n",
      "      721 cttttttatt aaaactgcgc aacgcctaca ctgccgcagg ggctgcagaa atgcgtggaa\n",
      "      781 tc\n",
      "//\n",
      "\n",
      "\n"
     ]
    }
   ],
   "source": [
    "from Bio import Entrez\n",
    "Entrez.email = \"localuser@localhost.localdomain\" #Mandatory! Can be replaced with your personal email.\n",
    "#creating EFetch handle\n",
    "efetch_handle = Entrez.efetch(db=\"nuccore\", id=\"AY953510\", rettype=\"gb\", retmode=\"text\")\n",
    "gbrecord = efetch_handle.read()\n",
    "print(gbrecord)\n"
   ]
  },
  {
   "cell_type": "code",
   "execution_count": 14,
   "id": "74f202c9-f7cf-4bc4-a7f8-d28295b99d4e",
   "metadata": {},
   "outputs": [
    {
     "name": "stdout",
     "output_type": "stream",
     "text": [
      ">AY953510.1 Macaca mulatta Snrpn gene, intron\n",
      "TTGGGGCGCGTCCTCCATCCGCCCCCAGCTGTGGTGTCGCCACAGGTCCTATTGCGGGTGTCTGCGGTGG\n",
      "GAAGGGCGGTGGTGACGGGGAGCGTGTGGGGTCACCGCAGCCAGCCAGGGACATGGGCGGAGGTGGGTAC\n",
      "ATCGGAGTGACTGCAGTTCCGTGTGGCGAGGGTACGTGGGGGGACCGGTGCATCGGGATTTGAGGCGGAG\n",
      "GTAGGTATACTGGAGTGATCGTGGCGGGGCGAAGGTACGTGGAGTGACGGGTATTTAGGGGGTGTCGAGC\n",
      "GCAGGTGGGTGTACTGAAGTGGCCACTGCGTGGTGGAGCAGGGTACGTGGGGCGACTGGGGGGTATTCGT\n",
      "CGCAGTGACCGAGGCGAGGAGGCTGTGGCAGTGGACCAGGGGGATGAGTCGGTACGACCGTGGTGGGGTT\n",
      "TGTGTTGGTGATCGCGGCGCGGGAAGGGTCTGTAGGAAGCGGCTGGGAGGTAGGAGGAAGGCGGCGGCGG\n",
      "TGGGCATTGGCGGCTTTGGTGGCAGTAGGCATGGCGGCGGTGGGCATGGCATGGAGGCGGTGGGCATGGC\n",
      "GGCCGCGGGGCCTGTTGCTGTCTGGAGTGACTAAGGGACGCTGAATGATCGCTGTGGCGGGGAGGGGGCA\n",
      "TCAGGAGGGGCAGTAGCACAGTCAGCAGCCTTTAATTTTCCTGTGACCTGCGGTGGTCATCTGGTTTGTC\n",
      "TGCTGTGGTGATGTCAGGTGCTTTTTTATTAAAACTGCGCAACGCCTACACTGCCGCAGGGGCTGCAGAA\n",
      "ATGCGTGGAATC\n",
      "\n",
      "\n"
     ]
    }
   ],
   "source": [
    "#creating handle\n",
    "efetch_handle = Entrez.efetch(db=\"nuccore\", id=\"AY953510\", rettype=\"fasta\", retmode=\"text\")\n",
    "gbrecord = efetch_handle.read()\n",
    "print(gbrecord)"
   ]
  },
  {
   "cell_type": "code",
   "execution_count": 17,
   "id": "b2ef146a-6477-44f1-afab-232f1dd579d7",
   "metadata": {},
   "outputs": [
    {
     "name": "stdout",
     "output_type": "stream",
     "text": [
      "gb download\n"
     ]
    }
   ],
   "source": [
    "import os\n",
    "\n",
    "#creating EFetch handle\n",
    "filename = \"snrpn gene macaca mulatta.gbk\" #up to you, but Genbank files always use *.gb or *.gbk \n",
    "\n",
    "#creating EFetch handle\n",
    "if not os.path.isfile(filename):\n",
    "    # Downloading file...\n",
    "    efetch_handle = Entrez.efetch(db=\"nuccore\", id=\"AY953510\", rettype=\"gb\", retmode=\"text\")\n",
    "    output_file_handle = open(filename, \"w\")\n",
    "    output_file_handle.write(efetch_handle.read())\n",
    "    output_file_handle.close()\n",
    "    efetch_handle.close()\n",
    "    print(\"gb download\")"
   ]
  },
  {
   "cell_type": "code",
   "execution_count": 18,
   "id": "9ee8a490-7fa0-466f-bf8d-73129b6d5977",
   "metadata": {},
   "outputs": [
    {
     "name": "stdout",
     "output_type": "stream",
     "text": [
      "FASTA Download\n"
     ]
    }
   ],
   "source": [
    "import os\n",
    "\n",
    "#creating EFetch handle\n",
    "filename = \"snrpn gene fasta macaca mulatta.fasta\" #up to you, but FASTA files always use *.fasta or *.fas \n",
    "\n",
    "#creating EFetch handle\n",
    "if not os.path.isfile(filename):\n",
    "    # Downloading file...\n",
    "    efetch_handle = Entrez.efetch(db=\"nuccore\", id=\"AY953510\", rettype=\"fasta\", retmode=\"text\")\n",
    "    output_file_handle = open(filename, \"w\")\n",
    "    output_file_handle.write(efetch_handle.read())\n",
    "    output_file_handle.close()\n",
    "    efetch_handle.close()\n",
    "    print(\"FASTA Download\")"
   ]
  },
  {
   "cell_type": "code",
   "execution_count": 20,
   "id": "057a67cf-3bb2-4293-aa75-114e085f4c4f",
   "metadata": {},
   "outputs": [
    {
     "name": "stdout",
     "output_type": "stream",
     "text": [
      "GB downloaded\n"
     ]
    }
   ],
   "source": [
    "import os # import os module for OS utilities\n",
    "from Bio import Entrez, SeqIO\n",
    "Entrez.email = \"localuser@localhost.localdomain\" #Mandatory! Can be replaced with your personal email.\n",
    "\n",
    "#creating EFetch handle\n",
    "filename = \"macaca mulatta complete seq.gbk\" #up to you, but Genbank files always use *.gb or *.gbk \n",
    "\n",
    "#creating EFetch handle\n",
    "if not os.path.isfile(filename):\n",
    "    # Downloading file...\n",
    "    efetch_handle = Entrez.efetch(db=\"nuccore\", id=\"AH000823\", rettype=\"gb\", retmode=\"text\")\n",
    "    output_file_handle = open(filename, \"w\")\n",
    "    output_file_handle.write(efetch_handle.read())\n",
    "    output_file_handle.close()\n",
    "    efetch_handle.close()\n",
    "    print(\"GB downloaded\")"
   ]
  },
  {
   "cell_type": "code",
   "execution_count": 23,
   "id": "2f1d0215-b46d-463d-86ce-256f1c5ff345",
   "metadata": {},
   "outputs": [
    {
     "name": "stdout",
     "output_type": "stream",
     "text": [
      ">HP|Macaca mulatta haptoglobin (HP) gene, partial cds; and HPR gene, complete sequence\n",
      "ATGTGGGAAGCCCAAGAATCCGGCAGACGCAGTGCAGCGGATCCTGGGTGGACACCTGGATGCAAAGGCAGCTTTCCCTGGCAGGCTAAGATGGTTTCCCGCCATAATCTCACCACAGGGGCCACGCTGATCAATGAACAATGGCTGCTGACCACGGCTAACAATCTCTTCCTGAACCATTCAGAAAATGCAACAGCGAAAGACATTGCCCCTACTTTAACACTCTATGTGGGGAAAAAGCAGCTTGTAGAGATTGAGAAGGTGGTTCTACACCCTAACTACTCCCAGGTAGATATTGGGCTCATCAAACTCAAACAGAAGGTGCCTGTTAATGAGAGAGTGATGCCCATCTGCCTACCTTCAAAGGATTATGCAGAAGTAGGGCGTGTGGGTTACGTGTCTGGCTGGGGCGAAATGCCAATTTTAAATTTACTGACCATCTGA\n"
     ]
    }
   ],
   "source": [
    "from Bio import SeqIO\n",
    "\n",
    "GoI = \"HP\" #change \" HP \" here with your GoI\n",
    "\n",
    "for genome in SeqIO.parse(\"macaca mulatta complete seq.gbk\",\"genbank\"):\n",
    "    for gene in genome.features:\n",
    "        if gene.type != \"CDS\":\n",
    "            continue\n",
    "        if \"gene\" not in gene.qualifiers:\n",
    "            continue\n",
    "        if GoI not in gene.qualifiers[\"gene\"][0]: \n",
    "            continue\n",
    "        gene_seq = gene.extract(genome.seq)\n",
    "\n",
    "GoI_fasta = \">%s|%s\\n%s\" % (GoI, genome.description, gene_seq)\n",
    "print(GoI_fasta)"
   ]
  },
  {
   "cell_type": "code",
   "execution_count": null,
   "id": "cea7d186-8054-4b10-99d2-10ac1a2d743a",
   "metadata": {},
   "outputs": [],
   "source": []
  }
 ],
 "metadata": {
  "kernelspec": {
   "display_name": "Python 3 (ipykernel)",
   "language": "python",
   "name": "python3"
  },
  "language_info": {
   "codemirror_mode": {
    "name": "ipython",
    "version": 3
   },
   "file_extension": ".py",
   "mimetype": "text/x-python",
   "name": "python",
   "nbconvert_exporter": "python",
   "pygments_lexer": "ipython3",
   "version": "3.9.7"
  }
 },
 "nbformat": 4,
 "nbformat_minor": 5
}
